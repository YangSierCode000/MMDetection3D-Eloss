{
 "cells": [
  {
   "cell_type": "markdown",
   "metadata": {},
   "source": [
    "## Inference models and save all results"
   ]
  },
  {
   "cell_type": "code",
   "execution_count": 1,
   "metadata": {},
   "outputs": [],
   "source": [
    "import os, subprocess, re, ast, pickle"
   ]
  },
  {
   "cell_type": "code",
   "execution_count": 2,
   "metadata": {},
   "outputs": [],
   "source": [
    "kitti_pointpillars_model = {\n",
    "    \"name\": \"kitti_pointpillars\",\n",
    "    \"config_file\": \"checkpoints/hv_pointpillars_secfpn_fp16_6x8_160e_kitti-3d-car/hv_pointpillars_secfpn_fp16_6x8_160e_kitti-3d-car.py\", \n",
    "    \"checkpoint\": \"checkpoints/hv_pointpillars_secfpn_fp16_6x8_160e_kitti-3d-car/epoch_19.pth\"\n",
    "}\n",
    "kitti_pointpillars_model_eloss = {\n",
    "    \"name\": \"kitti_pointpillars_eloss\",\n",
    "    \"config_file\": \"checkpoints/hv_pointpillars_secfpn_fp16_6x8_160e_kitti-3d-car-eloss/hv_pointpillars_secfpn_fp16_6x8_160e_kitti-3d-car-eloss.py\", \n",
    "    \"checkpoint\": \"checkpoints/hv_pointpillars_secfpn_fp16_6x8_160e_kitti-3d-car-eloss/epoch_40.pth\"\n",
    "}\n",
    "\n",
    "kitti_voxelnet_model = {\n",
    "    \"name\": \"kitti_voxelnet\",\n",
    "    \"config_file\": \"checkpoints/hv_second_secfpn_fp16_6x8_80e_kitti-3d-car/hv_second_secfpn_fp16_6x8_80e_kitti-3d-car.py\", \n",
    "    \"checkpoint\": \"checkpoints/hv_second_secfpn_fp16_6x8_80e_kitti-3d-car/latest.pth\"\n",
    "}\n",
    "kitti_voxelnet_model_eloss = {\n",
    "    \"name\": \"kitti_voxelnet_eloss\",\n",
    "    \"config_file\": \"checkpoints/hv_second_secfpn_fp16_6x8_80e_kitti-3d-car-eloss/hv_second_secfpn_fp16_6x8_80e_kitti-3d-car-eloss.py\", \n",
    "    \"checkpoint\": \"checkpoints/hv_second_secfpn_fp16_6x8_80e_kitti-3d-car-eloss/latest.pth\"\n",
    "}\n",
    "\n",
    "nus_pointpillars_model = {\n",
    "    \"name\": \"nus_pointpillars\",\n",
    "    \"config_file\": \"checkpoints/hv_pointpillars_secfpn_sbn-all_fp16_4x8_2x_nus-3d/hv_pointpillars_secfpn_sbn-all_fp16_4x8_2x_nus-3d.py\", \n",
    "    \"checkpoint\": \"checkpoints/hv_pointpillars_secfpn_sbn-all_fp16_4x8_2x_nus-3d/epoch_24.pth\"\n",
    "}\n",
    "nus_pointpillars_model_eloss = {\n",
    "    \"name\": \"nus_pointpillars_eloss\",\n",
    "    \"config_file\": \"checkpoints/hv_pointpillars_secfpn_sbn-all_fp16_4x8_2x_nus-3d-eloss/hv_pointpillars_secfpn_sbn-all_fp16_4x8_2x_nus-3d-eloss.py\", \n",
    "    \"checkpoint\": \"checkpoints/hv_pointpillars_secfpn_sbn-all_fp16_4x8_2x_nus-3d-eloss/epoch_24.pth\"\n",
    "}"
   ]
  },
  {
   "cell_type": "code",
   "execution_count": 3,
   "metadata": {
    "scrolled": true,
    "tags": []
   },
   "outputs": [
    {
     "name": "stderr",
     "output_type": "stream",
     "text": [
      "/opt/conda/lib/python3.8/site-packages/torch/distributed/launch.py:178: FutureWarning: The module torch.distributed.launch is deprecated\n",
      "and will be removed in future. Use torch.distributed.run.\n",
      "Note that --use_env is set by default in torch.distributed.run.\n",
      "If your script expects `--local_rank` argument to be set, please\n",
      "change it to read from `os.environ['LOCAL_RANK']` instead. See \n",
      "https://pytorch.org/docs/stable/distributed.html#launch-utility for \n",
      "further instructions\n",
      "\n",
      "  warnings.warn(\n",
      "WARNING:torch.distributed.run:*****************************************\n",
      "Setting OMP_NUM_THREADS environment variable for each process to be 1 in default, to avoid your system being overloaded, please further tune the variable for optimal performance in your application as needed. \n",
      "*****************************************\n",
      "/user-data/mmdetection3d/mmdet3d/models/backbones/mink_resnet.py:9: UserWarning: Please follow `getting_started.md` to install MinkowskiEngine.`\n",
      "  warnings.warn(\n",
      "/user-data/mmdetection3d/mmdet3d/models/backbones/mink_resnet.py:9: UserWarning: Please follow `getting_started.md` to install MinkowskiEngine.`\n",
      "  warnings.warn(\n",
      "/user-data/mmdetection3d/mmdet3d/models/backbones/mink_resnet.py:9: UserWarning: Please follow `getting_started.md` to install MinkowskiEngine.`\n",
      "  warnings.warn(\n",
      "/opt/conda/lib/python3.8/site-packages/mmdet/utils/setup_env.py:48: UserWarning: Setting MKL_NUM_THREADS environment variable for each process to be 1 in default, to avoid your system being overloaded, please further tune the variable for optimal performance in your application as needed.\n",
      "  warnings.warn(\n",
      "/opt/conda/lib/python3.8/site-packages/mmdet/utils/setup_env.py:48: UserWarning: Setting MKL_NUM_THREADS environment variable for each process to be 1 in default, to avoid your system being overloaded, please further tune the variable for optimal performance in your application as needed.\n",
      "  warnings.warn(\n",
      "/opt/conda/lib/python3.8/site-packages/mmdet/utils/setup_env.py:48: UserWarning: Setting MKL_NUM_THREADS environment variable for each process to be 1 in default, to avoid your system being overloaded, please further tune the variable for optimal performance in your application as needed.\n",
      "  warnings.warn(\n",
      "/user-data/mmdetection3d/mmdet3d/models/backbones/mink_resnet.py:9: UserWarning: Please follow `getting_started.md` to install MinkowskiEngine.`\n",
      "  warnings.warn(\n",
      "/opt/conda/lib/python3.8/site-packages/mmdet/utils/setup_env.py:48: UserWarning: Setting MKL_NUM_THREADS environment variable for each process to be 1 in default, to avoid your system being overloaded, please further tune the variable for optimal performance in your application as needed.\n",
      "  warnings.warn(\n",
      "/user-data/mmdetection3d/mmdet3d/models/dense_heads/anchor3d_head.py:84: UserWarning: dir_offset and dir_limit_offset will be depressed and be incorporated into box coder in the future\n",
      "  warnings.warn(\n",
      "/user-data/mmdetection3d/mmdet3d/models/dense_heads/anchor3d_head.py:84: UserWarning: dir_offset and dir_limit_offset will be depressed and be incorporated into box coder in the future\n",
      "  warnings.warn(\n",
      "/user-data/mmdetection3d/mmdet3d/models/dense_heads/anchor3d_head.py:84: UserWarning: dir_offset and dir_limit_offset will be depressed and be incorporated into box coder in the future\n",
      "  warnings.warn(\n",
      "/user-data/mmdetection3d/mmdet3d/models/dense_heads/anchor3d_head.py:84: UserWarning: dir_offset and dir_limit_offset will be depressed and be incorporated into box coder in the future\n",
      "  warnings.warn(\n"
     ]
    },
    {
     "name": "stdout",
     "output_type": "stream",
     "text": [
      "load checkpoint from local path: checkpoints/hv_second_secfpn_fp16_6x8_80e_kitti-3d-car/latest.pth\n",
      "load checkpoint from local path: checkpoints/hv_second_secfpn_fp16_6x8_80e_kitti-3d-car/latest.pth\n",
      "load checkpoint from local path: checkpoints/hv_second_secfpn_fp16_6x8_80e_kitti-3d-car/latest.pth\n",
      "load checkpoint from local path: checkpoints/hv_second_secfpn_fp16_6x8_80e_kitti-3d-car/latest.pth\n",
      "[>>>>>>>>>>>>>>>>>>>>>>>>>>>>>] 700/699, 4.6 task/s, elapsed: 152s, ETA:     0s\n",
      "writing results to noise_evaluate/kitti_voxelnet/eval_result.pkl\n"
     ]
    },
    {
     "name": "stderr",
     "output_type": "stream",
     "text": [
      "/opt/conda/lib/python3.8/site-packages/torch/distributed/launch.py:178: FutureWarning: The module torch.distributed.launch is deprecated\n",
      "and will be removed in future. Use torch.distributed.run.\n",
      "Note that --use_env is set by default in torch.distributed.run.\n",
      "If your script expects `--local_rank` argument to be set, please\n",
      "change it to read from `os.environ['LOCAL_RANK']` instead. See \n",
      "https://pytorch.org/docs/stable/distributed.html#launch-utility for \n",
      "further instructions\n",
      "\n",
      "  warnings.warn(\n",
      "WARNING:torch.distributed.run:*****************************************\n",
      "Setting OMP_NUM_THREADS environment variable for each process to be 1 in default, to avoid your system being overloaded, please further tune the variable for optimal performance in your application as needed. \n",
      "*****************************************\n",
      "/user-data/mmdetection3d/mmdet3d/models/backbones/mink_resnet.py:9: UserWarning: Please follow `getting_started.md` to install MinkowskiEngine.`\n",
      "  warnings.warn(\n",
      "/user-data/mmdetection3d/mmdet3d/models/backbones/mink_resnet.py:9: UserWarning: Please follow `getting_started.md` to install MinkowskiEngine.`\n",
      "  warnings.warn(\n",
      "/user-data/mmdetection3d/mmdet3d/models/backbones/mink_resnet.py:9: UserWarning: Please follow `getting_started.md` to install MinkowskiEngine.`\n",
      "  warnings.warn(\n",
      "/user-data/mmdetection3d/mmdet3d/models/backbones/mink_resnet.py:9: UserWarning: Please follow `getting_started.md` to install MinkowskiEngine.`\n",
      "  warnings.warn(\n",
      "/opt/conda/lib/python3.8/site-packages/mmdet/utils/setup_env.py:48: UserWarning: Setting MKL_NUM_THREADS environment variable for each process to be 1 in default, to avoid your system being overloaded, please further tune the variable for optimal performance in your application as needed.\n",
      "  warnings.warn(\n",
      "/opt/conda/lib/python3.8/site-packages/mmdet/utils/setup_env.py:48: UserWarning: Setting MKL_NUM_THREADS environment variable for each process to be 1 in default, to avoid your system being overloaded, please further tune the variable for optimal performance in your application as needed.\n",
      "  warnings.warn(\n",
      "/opt/conda/lib/python3.8/site-packages/mmdet/utils/setup_env.py:48: UserWarning: Setting MKL_NUM_THREADS environment variable for each process to be 1 in default, to avoid your system being overloaded, please further tune the variable for optimal performance in your application as needed.\n",
      "  warnings.warn(\n",
      "/opt/conda/lib/python3.8/site-packages/mmdet/utils/setup_env.py:48: UserWarning: Setting MKL_NUM_THREADS environment variable for each process to be 1 in default, to avoid your system being overloaded, please further tune the variable for optimal performance in your application as needed.\n",
      "  warnings.warn(\n",
      "/user-data/mmdetection3d/mmdet3d/models/dense_heads/anchor3d_head.py:84: UserWarning: dir_offset and dir_limit_offset will be depressed and be incorporated into box coder in the future\n",
      "  warnings.warn(\n",
      "/user-data/mmdetection3d/mmdet3d/models/dense_heads/anchor3d_head.py:84: UserWarning: dir_offset and dir_limit_offset will be depressed and be incorporated into box coder in the future\n",
      "  warnings.warn(\n",
      "/user-data/mmdetection3d/mmdet3d/models/dense_heads/anchor3d_head.py:84: UserWarning: dir_offset and dir_limit_offset will be depressed and be incorporated into box coder in the future\n",
      "  warnings.warn(\n",
      "/user-data/mmdetection3d/mmdet3d/models/dense_heads/anchor3d_head.py:84: UserWarning: dir_offset and dir_limit_offset will be depressed and be incorporated into box coder in the future\n",
      "  warnings.warn(\n"
     ]
    },
    {
     "name": "stdout",
     "output_type": "stream",
     "text": [
      "load checkpoint from local path: checkpoints/hv_second_secfpn_fp16_6x8_80e_kitti-3d-car-eloss/latest.pth\n",
      "load checkpoint from local path: checkpoints/hv_second_secfpn_fp16_6x8_80e_kitti-3d-car-eloss/latest.pth\n",
      "load checkpoint from local path: checkpoints/hv_second_secfpn_fp16_6x8_80e_kitti-3d-car-eloss/latest.pth\n",
      "load checkpoint from local path: checkpoints/hv_second_secfpn_fp16_6x8_80e_kitti-3d-car-eloss/latest.pth\n",
      "[>>>>>>>>>>>>>>>>>>>>>>>>>>>>>] 700/699, 5.0 task/s, elapsed: 140s, ETA:     0s\n",
      "writing results to noise_evaluate/kitti_voxelnet_eloss/eval_result.pkl\n"
     ]
    }
   ],
   "source": [
    "model_dicts = [kitti_pointpillars_model, kitti_pointpillars_model_eloss, kitti_voxelnet_model, kitti_voxelnet_model_eloss, nus_pointpillars_model, nus_pointpillars_model_eloss]\n",
    "\n",
    "for model_dict in model_dicts:\n",
    "    model_dict[\"model_out_dir\"] = os.path.join(\"noise_evaluate\", f\"{model_dict['name']}\", f\"eval_result.pkl\")\n",
    "\n",
    "for model_dict in model_dicts:\n",
    "    if not os.path.exists(f\"noise_evaluate/{model_dict['name']}/net_info\"):\n",
    "        os.makedirs(f\"noise_evaluate/{model_dict['name']}/net_info\")\n",
    "        command = f\"tools/dist_test.sh {model_dict['config_file']} {model_dict['checkpoint']} 4 --out {model_dict['model_out_dir']}\"\n",
    "        os.system(command)"
   ]
  },
  {
   "cell_type": "markdown",
   "metadata": {},
   "source": [
    "## Calculate Eloss"
   ]
  },
  {
   "cell_type": "code",
   "execution_count": 3,
   "metadata": {},
   "outputs": [],
   "source": [
    "import tqdm.notebook, seaborn\n",
    "import matplotlib.pyplot as plt"
   ]
  },
  {
   "cell_type": "markdown",
   "metadata": {},
   "source": [
    "### Test Eloss calculation"
   ]
  },
  {
   "cell_type": "code",
   "execution_count": 8,
   "metadata": {},
   "outputs": [
    {
     "data": {
      "application/vnd.jupyter.widget-view+json": {
       "model_id": "4809928bbf4f4b009f35d88dbb0819e0",
       "version_major": 2,
       "version_minor": 0
      },
      "text/plain": [
       "  0%|          | 0/10 [00:00<?, ?it/s]"
      ]
     },
     "metadata": {},
     "output_type": "display_data"
    },
    {
     "name": "stdout",
     "output_type": "stream",
     "text": [
      "[0.359130859375, 0.341064453125, 0.372314453125, 0.40283203125, 3.76953125, 0.3505859375, 3.99609375, 3.658203125, 3.90234375, 3.72265625]\n"
     ]
    },
    {
     "data": {
      "application/vnd.jupyter.widget-view+json": {
       "model_id": "a3846a3408d64853965a95d7546d180d",
       "version_major": 2,
       "version_minor": 0
      },
      "text/plain": [
       "  0%|          | 0/10 [00:00<?, ?it/s]"
      ]
     },
     "metadata": {},
     "output_type": "display_data"
    },
    {
     "name": "stdout",
     "output_type": "stream",
     "text": [
      "[0.9140625, 1.6181640625, 4.921875, 6.3515625, 1.2177734375, 2.958984375, 1.59765625, 1.3671875, 1.2119140625, 7.578125]\n"
     ]
    },
    {
     "data": {
      "application/vnd.jupyter.widget-view+json": {
       "model_id": "a60d127941914e9caf7ea0d9a3a79b64",
       "version_major": 2,
       "version_minor": 0
      },
      "text/plain": [
       "  0%|          | 0/10 [00:00<?, ?it/s]"
      ]
     },
     "metadata": {},
     "output_type": "display_data"
    },
    {
     "name": "stdout",
     "output_type": "stream",
     "text": [
      "[0.00885580200701952, 0.006981335114687681, 0.007085473742336035, 0.006488563027232885, 0.007027903106063604, 0.007945505902171135, 0.00737762963399291, 0.008778312243521214, 0.006904577370733023, 0.008246907033026218]\n"
     ]
    },
    {
     "data": {
      "application/vnd.jupyter.widget-view+json": {
       "model_id": "95e17a28ff824430b8e39a9420852452",
       "version_major": 2,
       "version_minor": 0
      },
      "text/plain": [
       "  0%|          | 0/10 [00:00<?, ?it/s]"
      ]
     },
     "metadata": {},
     "output_type": "display_data"
    },
    {
     "name": "stdout",
     "output_type": "stream",
     "text": [
      "[0.006743981968611479, 0.008901645429432392, 0.01156084705144167, 0.013153806328773499, 0.006722926627844572, 0.011762125417590141, 0.011265410110354424, 0.006930314004421234, 0.005684735253453255, 0.007730712648481131]\n"
     ]
    },
    {
     "data": {
      "application/vnd.jupyter.widget-view+json": {
       "model_id": "9f6d2341471e49209e91333db455912e",
       "version_major": 2,
       "version_minor": 0
      },
      "text/plain": [
       "  0%|          | 0/10 [00:00<?, ?it/s]"
      ]
     },
     "metadata": {},
     "output_type": "display_data"
    },
    {
     "name": "stdout",
     "output_type": "stream",
     "text": [
      "[0.3310546875, 0.26025390625, 0.435302734375, 0.329833984375, 0.3349609375, 0.28759765625, 2.775390625, 2.375, 4.25390625, 0.275146484375]\n"
     ]
    },
    {
     "data": {
      "application/vnd.jupyter.widget-view+json": {
       "model_id": "73c8817945fd42898dc0a8613350912b",
       "version_major": 2,
       "version_minor": 0
      },
      "text/plain": [
       "  0%|          | 0/10 [00:00<?, ?it/s]"
      ]
     },
     "metadata": {},
     "output_type": "display_data"
    },
    {
     "name": "stdout",
     "output_type": "stream",
     "text": [
      "[0.0300445556640625, 0.0347900390625, 0.1048583984375, 0.0083465576171875, 0.07000732421875, 0.00677490234375, 0.026641845703125, 0.0308990478515625, 0.048492431640625, 0.00128173828125]\n"
     ]
    },
    {
     "data": {
      "text/plain": [
       "<AxesSubplot:>"
      ]
     },
     "execution_count": 8,
     "metadata": {},
     "output_type": "execute_result"
    },
    {
     "data": {
      "image/png": "[encoded data removed]",
      "text/plain": [
       "<Figure size 432x288 with 1 Axes>"
      ]
     },
     "metadata": {
      "needs_background": "light"
     },
     "output_type": "display_data"
    }
   ],
   "source": [
    "from mmdet3d.models.losses.eloss import EntropyLoss\n",
    "\n",
    "model_dicts = [kitti_pointpillars_model, kitti_pointpillars_model_eloss, kitti_voxelnet_model, kitti_voxelnet_model_eloss, nus_pointpillars_model, nus_pointpillars_model_eloss]\n",
    "eloss = EntropyLoss().cuda()\n",
    "\n",
    "data = {}\n",
    "for model_dict in model_dicts:\n",
    "    path = os.path.join(\"noise_evaluate\", f\"{model_dict['name']}\")\n",
    "    \n",
    "    result = []\n",
    "    for file in tqdm.notebook.tqdm(os.listdir(os.path.join(path, \"net_info\"))[:10]):\n",
    "        with open(os.path.join(path, \"net_info\", file), \"rb\") as f:\n",
    "            result.append(float(eloss(pickle.load(f))[\"eloss_var\"][0].cpu().detach().numpy()))\n",
    "    print(result)\n",
    "    data[model_dict[\"name\"]] = sorted(result)\n",
    "\n",
    "seaborn.lineplot(data=data)"
   ]
  },
  {
   "cell_type": "markdown",
   "metadata": {},
   "source": [
    "### Calculate and save to local\n",
    "\n",
    "Move `noise_evaluate` to `noise_evaluate_collection`, then rename the folder."
   ]
  },
  {
   "cell_type": "code",
   "execution_count": 11,
   "metadata": {},
   "outputs": [],
   "source": [
    "import pandas as pd"
   ]
  },
  {
   "cell_type": "code",
   "execution_count": 92,
   "metadata": {},
   "outputs": [
    {
     "data": {
      "image/png": "[encoded data removed]",
      "text/plain": [
       "<Figure size 432x288 with 1 Axes>"
      ]
     },
     "metadata": {
      "needs_background": "light"
     },
     "output_type": "display_data"
    },
    {
     "data": {
      "image/png": "[encoded data removed]",
      "text/plain": [
       "<Figure size 432x288 with 1 Axes>"
      ]
     },
     "metadata": {
      "needs_background": "light"
     },
     "output_type": "display_data"
    }
   ],
   "source": [
    "from mmdet3d.models.losses.eloss import EntropyLoss\n",
    "import math\n",
    "\n",
    "collections = [\"noise_evaluate_noise_0\", \"noise_evaluate_noise_gauss_level1\", \"noise_evaluate_noise_gauss_level1_prob30\"]#\n",
    "\n",
    "model_dicts = [\n",
    "    # [kitti_pointpillars_model, kitti_pointpillars_model_eloss], \n",
    "    [kitti_voxelnet_model, kitti_voxelnet_model_eloss], \n",
    "    [nus_pointpillars_model, nus_pointpillars_model_eloss]\n",
    "]\n",
    "eloss = EntropyLoss().cuda()\n",
    "\n",
    "data_dfs = dict(dict())\n",
    "for collection in collections:\n",
    "    data_df = []\n",
    "    for model_dict_pair in model_dicts:\n",
    "        data = {}\n",
    "        for model_dict in model_dict_pair:\n",
    "            path = os.path.join(\"noise_evaluate_collection\", collection, f\"{model_dict['name']}\")\n",
    "\n",
    "            if os.path.exists(os.path.join(path, \"eloss_result.pickle\")):\n",
    "                with open(os.path.join(path, \"eloss_result.pickle\"), \"rb\") as f:\n",
    "                    result = pickle.load(f)\n",
    "            else: \n",
    "                result = []\n",
    "                for file in tqdm.notebook.tqdm(os.listdir(os.path.join(path, \"net_info\"))):\n",
    "                    with open(os.path.join(path, \"net_info\", file), \"rb\") as f:\n",
    "                        result.append(float(eloss(pickle.load(f))[\"eloss_var\"][0].cpu().detach().numpy()))\n",
    "\n",
    "                with open(os.path.join(path, \"eloss_result.pickle\"), \"wb\") as f:\n",
    "                    pickle.dump(result, f)\n",
    "\n",
    "            y = sorted([r for r in result if math.isnan(r) == False])\n",
    "\n",
    "            data[model_dict[\"name\"]] = y[:500]\n",
    "            # print(len(data[model_dict[\"name\"]]))\n",
    "\n",
    "        data_df.append(pd.DataFrame(data))\n",
    "    data_dfs[collection] = data_df\n",
    "    \n",
    "    \n",
    "for model_dict_pair in model_dicts:\n",
    "    for collection in collections:\n",
    "        for i, _ in enumerate(model_dict_pair):\n",
    "            data_df = data_dfs[collection][i]\n",
    "            seaborn.kdeplot(data=data_df)\n",
    "    plt.show()\n",
    "        \n",
    "        \n",
    "# for key, data_df_pairs in data_dfs.items():\n",
    "#     for _, data_df in data_df_pairs.items():\n",
    "#         # print(data_df)\n",
    "        \n",
    "#     plt.title(key)\n",
    "#     plt.show()\n",
    "    \n",
    "# for key, data_df_pairs in data_dfs.items():\n",
    "#     for _, data_df in data_df_pairs.items():\n",
    "#         # print(data_df)\n",
    "#         seaborn.kdeplot(data=data_df[[\"kitti_voxelnet\", \"kitti_voxelnet_eloss\"]])\n",
    "#     plt.title(key)\n",
    "#     plt.show()\n",
    "    \n",
    "# for key, data_df_pairs in data_dfs.items():\n",
    "#     for _, data_df in data_df_pairs.items():\n",
    "#         # print(data_df)\n",
    "#         seaborn.kdeplot(data=data_df[[\"nus_pointpillars\", \"nus_pointpillars_eloss\"]])\n",
    "#     plt.title(key)\n",
    "#     plt.show()"
   ]
  },
  {
   "cell_type": "markdown",
   "metadata": {
    "jp-MarkdownHeadingCollapsed": true,
    "tags": []
   },
   "source": [
    "## Confidence Evaluation"
   ]
  },
  {
   "cell_type": "code",
   "execution_count": 37,
   "metadata": {},
   "outputs": [
    {
     "ename": "NameError",
     "evalue": "name 'kitti_pointpillars_model' is not defined",
     "output_type": "error",
     "traceback": [
      "\u001b[0;31m---------------------------------------------------------------------------\u001b[0m",
      "\u001b[0;31mNameError\u001b[0m                                 Traceback (most recent call last)",
      "Input \u001b[0;32mIn [37]\u001b[0m, in \u001b[0;36m<cell line: 1>\u001b[0;34m()\u001b[0m\n\u001b[0;32m----> 1\u001b[0m model_dicts \u001b[38;5;241m=\u001b[39m [\u001b[43mkitti_pointpillars_model\u001b[49m, kitti_pointpillars_model_eloss]\n\u001b[1;32m      2\u001b[0m \u001b[38;5;28;01mfor\u001b[39;00m model_dict \u001b[38;5;129;01min\u001b[39;00m model_dicts:\n\u001b[1;32m      3\u001b[0m     path \u001b[38;5;241m=\u001b[39m os\u001b[38;5;241m.\u001b[39mpath\u001b[38;5;241m.\u001b[39mjoin(\u001b[38;5;124m\"\u001b[39m\u001b[38;5;124mnoise_evaluate\u001b[39m\u001b[38;5;124m\"\u001b[39m, \u001b[38;5;124mf\u001b[39m\u001b[38;5;124m\"\u001b[39m\u001b[38;5;132;01m{\u001b[39;00mmodel_dict[\u001b[38;5;124m'\u001b[39m\u001b[38;5;124mname\u001b[39m\u001b[38;5;124m'\u001b[39m]\u001b[38;5;132;01m}\u001b[39;00m\u001b[38;5;124m\"\u001b[39m, \u001b[38;5;124m\"\u001b[39m\u001b[38;5;124meval_result.pkl\u001b[39m\u001b[38;5;124m\"\u001b[39m)\n",
      "\u001b[0;31mNameError\u001b[0m: name 'kitti_pointpillars_model' is not defined"
     ]
    }
   ],
   "source": [
    "model_dicts = [kitti_pointpillars_model, kitti_pointpillars_model_eloss]\n",
    "for model_dict in model_dicts:\n",
    "    path = os.path.join(\"noise_evaluate\", f\"{model_dict['name']}\", \"eval_result.pkl\")\n",
    "    \n",
    "    with open(path, \"rb\") as f:\n",
    "        result = list(map(lambda x: list(x[\"scores_3d\"].cpu().detach().numpy()), pickle.load(f)))\n",
    "    \n",
    "    all_result = []\n",
    "    for r in result:\n",
    "        all_result += r\n",
    "\n",
    "    seaborn.kdeplot(data=sorted(all_result))"
   ]
  },
  {
   "cell_type": "code",
   "execution_count": 36,
   "metadata": {},
   "outputs": [
    {
     "data": {
      "image/png": "[encoded data removed]",
      "text/plain": [
       "<Figure size 432x288 with 1 Axes>"
      ]
     },
     "metadata": {
      "needs_background": "light"
     },
     "output_type": "display_data"
    }
   ],
   "source": [
    "model_dicts = [kitti_voxelnet_model, kitti_voxelnet_model_eloss]\n",
    "for model_dict in model_dicts:\n",
    "    path = os.path.join(\"noise_evaluate\", f\"{model_dict['name']}\", \"eval_result.pkl\")\n",
    "    \n",
    "    with open(path, \"rb\") as f:\n",
    "        result = list(map(lambda x: list(x[\"scores_3d\"].cpu().detach().numpy()), pickle.load(f)))\n",
    "    \n",
    "    all_result = []\n",
    "    for r in result:\n",
    "        all_result += r\n",
    "\n",
    "    seaborn.kdeplot(data=sorted(all_result))"
   ]
  },
  {
   "cell_type": "code",
   "execution_count": 35,
   "metadata": {},
   "outputs": [
    {
     "data": {
      "image/png": "[encoded data removed]",
      "text/plain": [
       "<Figure size 432x288 with 1 Axes>"
      ]
     },
     "metadata": {
      "needs_background": "light"
     },
     "output_type": "display_data"
    }
   ],
   "source": [
    "model_dicts = [nus_pointpillars_model, nus_pointpillars_model_eloss]\n",
    "for model_dict in model_dicts:\n",
    "    path = os.path.join(\"noise_evaluate\", f\"{model_dict['name']}\", \"eval_result.pkl\")\n",
    "    \n",
    "    with open(path, \"rb\") as f:\n",
    "        result = list(map(lambda x: list(x[\"pts_bbox\"][\"scores_3d\"].cpu().detach().numpy()), pickle.load(f)))\n",
    "    \n",
    "    all_result = []\n",
    "    for r in result:\n",
    "        all_result += r\n",
    "\n",
    "    seaborn.kdeplot(data=sorted(all_result), legend=model_dict[\"name\"])"
   ]
  },
  {
   "cell_type": "markdown",
   "metadata": {},
   "source": [
    "## Test: noise inference"
   ]
  },
  {
   "cell_type": "code",
   "execution_count": null,
   "metadata": {},
   "outputs": [],
   "source": [
    "import os\n",
    "\n",
    "kitti_voxelnet_model = {\n",
    "    \"name\": \"kitti_voxelnet\",\n",
    "    \"config_file\": \"checkpoints/hv_second_secfpn_fp16_6x8_80e_kitti-3d-car/hv_second_secfpn_fp16_6x8_80e_kitti-3d-car.py\", \n",
    "    \"checkpoint\": \"checkpoints/hv_second_secfpn_fp16_6x8_80e_kitti-3d-car/latest.pth\"\n",
    "}\n",
    "kitti_voxelnet_model_eloss = {\n",
    "    \"name\": \"kitti_voxelnet_eloss\",\n",
    "    \"config_file\": \"checkpoints/hv_second_secfpn_fp16_6x8_80e_kitti-3d-car-eloss/hv_second_secfpn_fp16_6x8_80e_kitti-3d-car-eloss.py\", \n",
    "    \"checkpoint\": \"checkpoints/hv_second_secfpn_fp16_6x8_80e_kitti-3d-car-eloss/latest.pth\"\n",
    "}\n",
    "\n",
    "# nus_pointpillars_model = {\n",
    "#     \"name\": \"nus_pointpillars\",\n",
    "#     \"config_file\": \"checkpoints/hv_pointpillars_secfpn_sbn-all_fp16_4x8_2x_nus-3d/hv_pointpillars_secfpn_sbn-all_fp16_4x8_2x_nus-3d.py\", \n",
    "#     \"checkpoint\": \"checkpoints/hv_pointpillars_secfpn_sbn-all_fp16_4x8_2x_nus-3d/epoch_24.pth\"\n",
    "# }\n",
    "# nus_pointpillars_model_eloss = {\n",
    "#     \"name\": \"nus_pointpillars_eloss\",\n",
    "#     \"config_file\": \"checkpoints/hv_pointpillars_secfpn_sbn-all_fp16_4x8_2x_nus-3d-eloss/hv_pointpillars_secfpn_sbn-all_fp16_4x8_2x_nus-3d-eloss.py\", \n",
    "#     \"checkpoint\": \"checkpoints/hv_pointpillars_secfpn_sbn-all_fp16_4x8_2x_nus-3d-eloss/epoch_24.pth\"\n",
    "# }\n",
    "\n",
    "models = [kitti_voxelnet_model, kitti_voxelnet_model_eloss] #, nus_pointpillars_model, nus_pointpillars_model_eloss\n",
    "\n",
    "for model in models:\n",
    "    os.system(f\"python demo/pcd_demo.py demo/data/kitti/kitti_000008.bin {model['config_file']} {model['checkpoint']}\")"
   ]
  }
 ],
 "metadata": {
  "kernelspec": {
   "display_name": "Python 3 (ipykernel)",
   "language": "python",
   "name": "python3"
  },
  "language_info": {
   "codemirror_mode": {
    "name": "ipython",
    "version": 3
   },
   "file_extension": ".py",
   "mimetype": "text/x-python",
   "name": "python",
   "nbconvert_exporter": "python",
   "pygments_lexer": "ipython3",
   "version": "3.8.12"
  },
  "vscode": {
   "interpreter": {
    "hash": "d4d1e4263499bec80672ea0156c357c1ee493ec2b1c70f0acce89fc37c4a6abe"
   }
  }
 },
 "nbformat": 4,
 "nbformat_minor": 4
}
